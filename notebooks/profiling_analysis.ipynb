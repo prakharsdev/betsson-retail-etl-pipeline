{
 "cells": [
  {
   "cell_type": "markdown",
   "id": "6c1a2622",
   "metadata": {},
   "source": [
    "# Diagnostic notebook for uncovering issues in raw input data before running the ETL pipeline"
   ]
  },
  {
   "cell_type": "code",
   "execution_count": 17,
   "id": "2b0674f1",
   "metadata": {},
   "outputs": [],
   "source": [
    "# Raw Data Profiling Notebook\n",
    "\n",
    "import pandas as pd\n",
    "import matplotlib.pyplot as plt\n",
    "import seaborn as sns\n",
    "from pathlib import Path\n"
   ]
  },
  {
   "cell_type": "code",
   "execution_count": 18,
   "id": "2ec50010",
   "metadata": {},
   "outputs": [],
   "source": [
    "# Set path to raw data file\n",
    "data_path = Path(\"../data/raw/transactions.csv\")\n",
    "df = pd.read_csv(data_path, encoding=\"ISO-8859-1\", low_memory=False)\n",
    "df.columns = df.columns.str.strip()"
   ]
  },
  {
   "cell_type": "code",
   "execution_count": 19,
   "id": "f47e2765",
   "metadata": {},
   "outputs": [
    {
     "name": "stdout",
     "output_type": "stream",
     "text": [
      "Raw DataFrame Info:\n",
      "<class 'pandas.core.frame.DataFrame'>\n",
      "RangeIndex: 525461 entries, 0 to 525460\n",
      "Data columns (total 8 columns):\n",
      " #   Column       Non-Null Count   Dtype  \n",
      "---  ------       --------------   -----  \n",
      " 0   Invoice      525461 non-null  object \n",
      " 1   StockCode    525461 non-null  object \n",
      " 2   Description  522533 non-null  object \n",
      " 3   Quantity     525461 non-null  int64  \n",
      " 4   InvoiceDate  525461 non-null  object \n",
      " 5   Price        525439 non-null  float64\n",
      " 6   Customer ID  417541 non-null  object \n",
      " 7   Country      525430 non-null  object \n",
      "dtypes: float64(1), int64(1), object(6)\n",
      "memory usage: 32.1+ MB\n"
     ]
    }
   ],
   "source": [
    "# Basic Info\n",
    "print(\"Raw DataFrame Info:\")\n",
    "df.info()\n"
   ]
  },
  {
   "cell_type": "code",
   "execution_count": 20,
   "id": "8ef38e9d",
   "metadata": {},
   "outputs": [
    {
     "data": {
      "text/html": [
       "<div>\n",
       "<style scoped>\n",
       "    .dataframe tbody tr th:only-of-type {\n",
       "        vertical-align: middle;\n",
       "    }\n",
       "\n",
       "    .dataframe tbody tr th {\n",
       "        vertical-align: top;\n",
       "    }\n",
       "\n",
       "    .dataframe thead th {\n",
       "        text-align: right;\n",
       "    }\n",
       "</style>\n",
       "<table border=\"1\" class=\"dataframe\">\n",
       "  <thead>\n",
       "    <tr style=\"text-align: right;\">\n",
       "      <th></th>\n",
       "      <th>Invoice</th>\n",
       "      <th>StockCode</th>\n",
       "      <th>Description</th>\n",
       "      <th>Quantity</th>\n",
       "      <th>InvoiceDate</th>\n",
       "      <th>Price</th>\n",
       "      <th>Customer ID</th>\n",
       "      <th>Country</th>\n",
       "    </tr>\n",
       "  </thead>\n",
       "  <tbody>\n",
       "    <tr>\n",
       "      <th>count</th>\n",
       "      <td>525461</td>\n",
       "      <td>525461</td>\n",
       "      <td>522533</td>\n",
       "      <td>525461.000000</td>\n",
       "      <td>525461</td>\n",
       "      <td>525439.000000</td>\n",
       "      <td>417541</td>\n",
       "      <td>525430</td>\n",
       "    </tr>\n",
       "    <tr>\n",
       "      <th>unique</th>\n",
       "      <td>28816</td>\n",
       "      <td>4632</td>\n",
       "      <td>4681</td>\n",
       "      <td>NaN</td>\n",
       "      <td>25296</td>\n",
       "      <td>NaN</td>\n",
       "      <td>4384</td>\n",
       "      <td>41</td>\n",
       "    </tr>\n",
       "    <tr>\n",
       "      <th>top</th>\n",
       "      <td>537434</td>\n",
       "      <td>85123A</td>\n",
       "      <td>WHITE HANGING HEART T-LIGHT HOLDER</td>\n",
       "      <td>NaN</td>\n",
       "      <td>12/06/2010 16:57</td>\n",
       "      <td>NaN</td>\n",
       "      <td>14911</td>\n",
       "      <td>United Kingdom</td>\n",
       "    </tr>\n",
       "    <tr>\n",
       "      <th>freq</th>\n",
       "      <td>675</td>\n",
       "      <td>3516</td>\n",
       "      <td>3549</td>\n",
       "      <td>NaN</td>\n",
       "      <td>675</td>\n",
       "      <td>NaN</td>\n",
       "      <td>5710</td>\n",
       "      <td>485741</td>\n",
       "    </tr>\n",
       "    <tr>\n",
       "      <th>mean</th>\n",
       "      <td>NaN</td>\n",
       "      <td>NaN</td>\n",
       "      <td>NaN</td>\n",
       "      <td>10.337667</td>\n",
       "      <td>NaN</td>\n",
       "      <td>4.688669</td>\n",
       "      <td>NaN</td>\n",
       "      <td>NaN</td>\n",
       "    </tr>\n",
       "    <tr>\n",
       "      <th>std</th>\n",
       "      <td>NaN</td>\n",
       "      <td>NaN</td>\n",
       "      <td>NaN</td>\n",
       "      <td>107.424110</td>\n",
       "      <td>NaN</td>\n",
       "      <td>146.130044</td>\n",
       "      <td>NaN</td>\n",
       "      <td>NaN</td>\n",
       "    </tr>\n",
       "    <tr>\n",
       "      <th>min</th>\n",
       "      <td>NaN</td>\n",
       "      <td>NaN</td>\n",
       "      <td>NaN</td>\n",
       "      <td>-9600.000000</td>\n",
       "      <td>NaN</td>\n",
       "      <td>-53594.360000</td>\n",
       "      <td>NaN</td>\n",
       "      <td>NaN</td>\n",
       "    </tr>\n",
       "    <tr>\n",
       "      <th>25%</th>\n",
       "      <td>NaN</td>\n",
       "      <td>NaN</td>\n",
       "      <td>NaN</td>\n",
       "      <td>1.000000</td>\n",
       "      <td>NaN</td>\n",
       "      <td>1.250000</td>\n",
       "      <td>NaN</td>\n",
       "      <td>NaN</td>\n",
       "    </tr>\n",
       "    <tr>\n",
       "      <th>50%</th>\n",
       "      <td>NaN</td>\n",
       "      <td>NaN</td>\n",
       "      <td>NaN</td>\n",
       "      <td>3.000000</td>\n",
       "      <td>NaN</td>\n",
       "      <td>2.100000</td>\n",
       "      <td>NaN</td>\n",
       "      <td>NaN</td>\n",
       "    </tr>\n",
       "    <tr>\n",
       "      <th>75%</th>\n",
       "      <td>NaN</td>\n",
       "      <td>NaN</td>\n",
       "      <td>NaN</td>\n",
       "      <td>10.000000</td>\n",
       "      <td>NaN</td>\n",
       "      <td>4.210000</td>\n",
       "      <td>NaN</td>\n",
       "      <td>NaN</td>\n",
       "    </tr>\n",
       "    <tr>\n",
       "      <th>max</th>\n",
       "      <td>NaN</td>\n",
       "      <td>NaN</td>\n",
       "      <td>NaN</td>\n",
       "      <td>19152.000000</td>\n",
       "      <td>NaN</td>\n",
       "      <td>25111.090000</td>\n",
       "      <td>NaN</td>\n",
       "      <td>NaN</td>\n",
       "    </tr>\n",
       "  </tbody>\n",
       "</table>\n",
       "</div>"
      ],
      "text/plain": [
       "       Invoice StockCode                         Description       Quantity  \\\n",
       "count   525461    525461                              522533  525461.000000   \n",
       "unique   28816      4632                                4681            NaN   \n",
       "top     537434    85123A  WHITE HANGING HEART T-LIGHT HOLDER            NaN   \n",
       "freq       675      3516                                3549            NaN   \n",
       "mean       NaN       NaN                                 NaN      10.337667   \n",
       "std        NaN       NaN                                 NaN     107.424110   \n",
       "min        NaN       NaN                                 NaN   -9600.000000   \n",
       "25%        NaN       NaN                                 NaN       1.000000   \n",
       "50%        NaN       NaN                                 NaN       3.000000   \n",
       "75%        NaN       NaN                                 NaN      10.000000   \n",
       "max        NaN       NaN                                 NaN   19152.000000   \n",
       "\n",
       "             InvoiceDate          Price Customer ID         Country  \n",
       "count             525461  525439.000000      417541          525430  \n",
       "unique             25296            NaN        4384              41  \n",
       "top     12/06/2010 16:57            NaN       14911  United Kingdom  \n",
       "freq                 675            NaN        5710          485741  \n",
       "mean                 NaN       4.688669         NaN             NaN  \n",
       "std                  NaN     146.130044         NaN             NaN  \n",
       "min                  NaN  -53594.360000         NaN             NaN  \n",
       "25%                  NaN       1.250000         NaN             NaN  \n",
       "50%                  NaN       2.100000         NaN             NaN  \n",
       "75%                  NaN       4.210000         NaN             NaN  \n",
       "max                  NaN   25111.090000         NaN             NaN  "
      ]
     },
     "metadata": {},
     "output_type": "display_data"
    }
   ],
   "source": [
    "# Summary Statistics\n",
    "display(df.describe(include=\"all\"))\n"
   ]
  },
  {
   "cell_type": "code",
   "execution_count": 21,
   "id": "85ddf8f5",
   "metadata": {},
   "outputs": [
    {
     "data": {
      "text/plain": [
       "Customer ID    107920\n",
       "Description      2928\n",
       "Country            31\n",
       "Price              22\n",
       "Quantity            0\n",
       "StockCode           0\n",
       "Invoice             0\n",
       "InvoiceDate         0\n",
       "dtype: int64"
      ]
     },
     "metadata": {},
     "output_type": "display_data"
    }
   ],
   "source": [
    "# Null Count\n",
    "display(df.isnull().sum().sort_values(ascending=False))\n"
   ]
  },
  {
   "cell_type": "code",
   "execution_count": 22,
   "id": "ea951507",
   "metadata": {},
   "outputs": [
    {
     "name": "stdout",
     "output_type": "stream",
     "text": [
      "Total exact duplicates: 6865\n",
      "Duplicate (Invoice, StockCode) rows: 25399\n"
     ]
    }
   ],
   "source": [
    "# Duplicate Checks\n",
    "print(f\"Total exact duplicates: {df.duplicated().sum()}\")\n",
    "duplicates_subset = df[df.duplicated(subset=[\"Invoice\", \"StockCode\"], keep=False)]\n",
    "print(f\"Duplicate (Invoice, StockCode) rows: {duplicates_subset.shape[0]}\")"
   ]
  },
  {
   "cell_type": "code",
   "execution_count": 23,
   "id": "55fe829f",
   "metadata": {},
   "outputs": [
    {
     "name": "stdout",
     "output_type": "stream",
     "text": [
      "Suspicious/Empty Descriptions: 45\n"
     ]
    }
   ],
   "source": [
    "# Suspicious Descriptions\n",
    "suspicious = df[\"Description\"].astype(str).str.strip().isin([\"\", \"?\", \"UNKNOWN\"])\n",
    "print(f\"Suspicious/Empty Descriptions: {suspicious.sum()}\")"
   ]
  },
  {
   "cell_type": "code",
   "execution_count": 24,
   "id": "42fc6f83",
   "metadata": {},
   "outputs": [
    {
     "name": "stdout",
     "output_type": "stream",
     "text": [
      "Quantity <= 0: 12326\n",
      "Price <= 0: 3697\n",
      "Quantity > 1000 (outliers): 236\n",
      "Price > 1000 (outliers): 125\n"
     ]
    }
   ],
   "source": [
    "# Quantity/Price Issues\n",
    "print(f\"Quantity <= 0: {df[df['Quantity'] <= 0].shape[0]}\")\n",
    "print(f\"Price <= 0: {df[df['Price'] <= 0].shape[0]}\")\n",
    "print(f\"Quantity > 1000 (outliers): {df[df['Quantity'] > 1000].shape[0]}\")\n",
    "print(f\"Price > 1000 (outliers): {df[df['Price'] > 1000].shape[0]}\")"
   ]
  },
  {
   "cell_type": "code",
   "execution_count": 25,
   "id": "93d7b922",
   "metadata": {},
   "outputs": [
    {
     "name": "stdout",
     "output_type": "stream",
     "text": [
      "Min InvoiceDate: 2009-12-01 07:45:00\n",
      "Max InvoiceDate: 2010-12-09 20:01:00\n",
      "Missing/Invalid dates: 0\n",
      "Future dated invoices: 0\n"
     ]
    }
   ],
   "source": [
    "# InvoiceDate Checks\n",
    "df[\"InvoiceDate\"] = pd.to_datetime(df[\"InvoiceDate\"], errors=\"coerce\")\n",
    "print(f\"Min InvoiceDate: {df['InvoiceDate'].min()}\")\n",
    "print(f\"Max InvoiceDate: {df['InvoiceDate'].max()}\")\n",
    "print(f\"Missing/Invalid dates: {df['InvoiceDate'].isnull().sum()}\")\n",
    "print(f\"Future dated invoices: {df[df['InvoiceDate'] > pd.Timestamp.now()].shape[0]}\")"
   ]
  },
  {
   "cell_type": "code",
   "execution_count": 26,
   "id": "24fa30dd",
   "metadata": {},
   "outputs": [
    {
     "name": "stdout",
     "output_type": "stream",
     "text": [
      "System StockCodes (POST/ADJUST/CHECK): 932\n"
     ]
    }
   ],
   "source": [
    "# System StockCodes Check\n",
    "system_codes = [\"POST\", \"ADJUST\", \"CHECK\"]\n",
    "flagged = df[\"StockCode\"].astype(str).str.upper().isin(system_codes)\n",
    "print(f\"System StockCodes (POST/ADJUST/CHECK): {flagged.sum()}\")\n"
   ]
  },
  {
   "cell_type": "code",
   "execution_count": 27,
   "id": "214d7677",
   "metadata": {},
   "outputs": [
    {
     "name": "stdout",
     "output_type": "stream",
     "text": [
      "Customers appearing in >1 country: 5\n"
     ]
    }
   ],
   "source": [
    "# Multi-country Customers\n",
    "multi_country = df.groupby(\"Customer ID\")[\"Country\"].nunique()\n",
    "print(f\"Customers appearing in >1 country: {multi_country[multi_country > 1].shape[0]}\")"
   ]
  },
  {
   "cell_type": "code",
   "execution_count": 28,
   "id": "eebadd05",
   "metadata": {},
   "outputs": [
    {
     "data": {
      "text/plain": [
       "{'Unique Invoices': 28816,\n",
       " 'Unique Customers': 4384,\n",
       " 'Unique Products': 4632,\n",
       " 'Unique Countries': 41}"
      ]
     },
     "metadata": {},
     "output_type": "display_data"
    }
   ],
   "source": [
    "# Unique Count Summary\n",
    "summary_counts = {\n",
    "    \"Unique Invoices\": df[\"Invoice\"].nunique(),\n",
    "    \"Unique Customers\": df[\"Customer ID\"].nunique(),\n",
    "    \"Unique Products\": df[\"StockCode\"].nunique(),\n",
    "    \"Unique Countries\": df[\"Country\"].nunique()\n",
    "}\n",
    "display(summary_counts)\n"
   ]
  },
  {
   "cell_type": "code",
   "execution_count": 29,
   "id": "69c86fe6",
   "metadata": {},
   "outputs": [
    {
     "data": {
      "image/png": "[encoded data removed]",
      "text/plain": [
       "<Figure size 1000x600 with 1 Axes>"
      ]
     },
     "metadata": {},
     "output_type": "display_data"
    }
   ],
   "source": [
    "# Optional: Visualize Nulls and Distributions\n",
    "plt.figure(figsize=(10, 6))\n",
    "df.isnull().mean().sort_values(ascending=False).plot(kind='barh', title='Fraction of Null Values per Column')\n",
    "plt.tight_layout()\n",
    "plt.show()"
   ]
  },
  {
   "cell_type": "code",
   "execution_count": 30,
   "id": "d07c4138",
   "metadata": {},
   "outputs": [
    {
     "data": {
      "image/png": "[encoded data removed]",
      "text/plain": [
       "<Figure size 800x400 with 1 Axes>"
      ]
     },
     "metadata": {},
     "output_type": "display_data"
    }
   ],
   "source": [
    "plt.figure(figsize=(8, 4))\n",
    "sns.histplot(df['Quantity'], bins=100, kde=True)\n",
    "plt.title(\"Distribution of Quantity\")\n",
    "plt.xlim(-100, 1500)\n",
    "plt.show()"
   ]
  },
  {
   "cell_type": "code",
   "execution_count": 31,
   "id": "fa21d8eb",
   "metadata": {},
   "outputs": [
    {
     "data": {
      "image/png": "[encoded data removed]",
      "text/plain": [
       "<Figure size 800x400 with 1 Axes>"
      ]
     },
     "metadata": {},
     "output_type": "display_data"
    }
   ],
   "source": [
    "plt.figure(figsize=(8, 4))\n",
    "sns.histplot(df['Price'], bins=100, kde=True)\n",
    "plt.title(\"Distribution of Price\")\n",
    "plt.xlim(-10, 1500)\n",
    "plt.show()\n"
   ]
  }
 ],
 "metadata": {
  "kernelspec": {
   "display_name": "betsson",
   "language": "python",
   "name": "python3"
  },
  "language_info": {
   "codemirror_mode": {
    "name": "ipython",
    "version": 3
   },
   "file_extension": ".py",
   "mimetype": "text/x-python",
   "name": "python",
   "nbconvert_exporter": "python",
   "pygments_lexer": "ipython3",
   "version": "3.11.9"
  }
 },
 "nbformat": 4,
 "nbformat_minor": 5
}
